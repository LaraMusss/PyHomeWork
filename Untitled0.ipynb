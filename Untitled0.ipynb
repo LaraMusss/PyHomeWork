{
  "nbformat": 4,
  "nbformat_minor": 0,
  "metadata": {
    "colab": {
      "provenance": [],
      "authorship_tag": "ABX9TyPs/YChvVIL0Pn3CFEBg1da",
      "include_colab_link": true
    },
    "kernelspec": {
      "name": "python3",
      "display_name": "Python 3"
    },
    "language_info": {
      "name": "python"
    }
  },
  "cells": [
    {
      "cell_type": "markdown",
      "metadata": {
        "id": "view-in-github",
        "colab_type": "text"
      },
      "source": [
        "<a href=\"https://colab.research.google.com/github/LaraMusss/PyHomeWork/blob/main/Untitled0.ipynb\" target=\"_parent\"><img src=\"https://colab.research.google.com/assets/colab-badge.svg\" alt=\"Open In Colab\"/></a>"
      ]
    },
    {
      "cell_type": "code",
      "execution_count": 4,
      "metadata": {
        "id": "_4yrQgnyEHJq"
      },
      "outputs": [],
      "source": [
        "#@title Текст заголовка по умолчанию\n",
        "import pandas as pd\n",
        "\n",
        "df = pd.read_csv('sample_data/california_housing_train.csv')\n",
        "\n"
      ]
    },
    {
      "cell_type": "code",
      "source": [
        "#задача.узнать какая максимальная households в зоне минимального значения population \n",
        "\n",
        "min_population=df.population.min()\n",
        "df[df['population']==min_population].households.max()\n"
      ],
      "metadata": {
        "colab": {
          "base_uri": "https://localhost:8080/"
        },
        "id": "eO92ejxMUzB6",
        "outputId": "38c36821-eda8-43cb-a3f9-417f4754f55c"
      },
      "execution_count": 11,
      "outputs": [
        {
          "output_type": "execute_result",
          "data": {
            "text/plain": [
              "4.0"
            ]
          },
          "metadata": {},
          "execution_count": 11
        }
      ]
    },
    {
      "cell_type": "code",
      "source": [
        "#задача. определить среднюю стоимость дома где количество людей от 0 до 500\n",
        "#(population)\n",
        "df[(df['population']>0) & df['population']<500].median_house_value.mean()\n",
        "\n",
        "\n"
      ],
      "metadata": {
        "colab": {
          "base_uri": "https://localhost:8080/"
        },
        "id": "1ItdVneLZkty",
        "outputId": "9593a2f6-b649-43bc-f9f5-b1de02423c17"
      },
      "execution_count": 12,
      "outputs": [
        {
          "output_type": "execute_result",
          "data": {
            "text/plain": [
              "207300.91235294117"
            ]
          },
          "metadata": {},
          "execution_count": 12
        }
      ]
    }
  ]
}